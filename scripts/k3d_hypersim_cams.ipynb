{
 "cells": [
  {
   "cell_type": "code",
   "execution_count": 1,
   "id": "c052d000-b4c1-4c12-8931-b6459d0d97ad",
   "metadata": {},
   "outputs": [],
   "source": [
    "import k3d"
   ]
  },
  {
   "cell_type": "code",
   "execution_count": 2,
   "id": "2350a367-411d-45fb-b0ec-d632a9b380d6",
   "metadata": {},
   "outputs": [],
   "source": [
    "import numpy as np\n",
    "\n",
    "from pathlib import Path\n",
    "import imageio.v2 as imageio\n",
    "\n",
    "from hc3d.vis import CameraCone\n",
    "from hc3d.render import compute_intrinsics, unproject\n",
    "from hc3d.utils import batch_img_resize"
   ]
  },
  {
   "cell_type": "code",
   "execution_count": 8,
   "id": "36ca991a-74f5-4661-9d71-b5197e59b6f5",
   "metadata": {},
   "outputs": [],
   "source": [
    "import warnings\n",
    "warnings.filterwarnings(\"error\")"
   ]
  },
  {
   "cell_type": "code",
   "execution_count": 3,
   "id": "e6694b9d-95bd-4357-a6ec-9381a0a24a3f",
   "metadata": {},
   "outputs": [],
   "source": [
    "def load_imgs():\n",
    "    # root = Path(\"/scratch/omni3d_data/ml-hypersim/hypersim/ai_001_001/images/scene_cam_00_final_preview\")\n",
    "    root = Path(\"/scratch/omni3d_data/ml-hypersim/hypersim/ai_001_008/images/scene_cam_00_final_preview\")\n",
    "    # example fname frame.0001.tonemap.jpg\n",
    "    fnames = sorted(list(root.glob(\"*.jpg\")))\n",
    "    imgs = [imageio.imread(str(f)) for f in fnames]\n",
    "    return np.array(imgs)"
   ]
  },
  {
   "cell_type": "code",
   "execution_count": 4,
   "id": "b88d120f-1da2-43a3-bf77-22c321762138",
   "metadata": {},
   "outputs": [
    {
     "name": "stdout",
     "output_type": "stream",
     "text": [
      "(100, 4, 4)\n"
     ]
    }
   ],
   "source": [
    "poses = np.load(\"/home/whc/projects/omni3d/008_poses.npy\")\n",
    "print(poses.shape)\n",
    "n = len(poses)"
   ]
  },
  {
   "cell_type": "code",
   "execution_count": 5,
   "id": "cd506610-9576-4d73-9577-56fb13839759",
   "metadata": {},
   "outputs": [],
   "source": [
    "H, W = 768, 1024\n",
    "fov = 60\n",
    "K = compute_intrinsics(W / H, fov, H)"
   ]
  },
  {
   "cell_type": "code",
   "execution_count": 6,
   "id": "9f544310-c2bc-4b0c-bff4-2dee2de9c96d",
   "metadata": {},
   "outputs": [
    {
     "name": "stdout",
     "output_type": "stream",
     "text": [
      "(100, 768, 1024, 3)\n",
      "(100, 200, 266, 3)\n"
     ]
    }
   ],
   "source": [
    "imgs = load_imgs()\n",
    "print(imgs.shape)\n",
    "imgs = batch_img_resize(imgs, new_h=200)\n",
    "print(imgs.shape)"
   ]
  },
  {
   "cell_type": "code",
   "execution_count": 7,
   "id": "d58aaf17-4112-41fd-a690-59b262df775f",
   "metadata": {},
   "outputs": [],
   "source": [
    "def generate_cam(po, color, im=None):\n",
    "    cone = CameraCone(K, po, W, H, scale=10.0,\n",
    "                      top_left_corner=(0, 0), color=color)\n",
    "    lset = cone.as_k3d_lineset()\n",
    "    if im is None:\n",
    "        return [lset]\n",
    "    else:\n",
    "        # o3d img tsr requires contiguous array\n",
    "        im = np.ascontiguousarray(im)\n",
    "        view_plane = cone.as_k3d_viewplane(im)\n",
    "        return [lset, view_plane]"
   ]
  },
  {
   "cell_type": "code",
   "execution_count": 9,
   "id": "6e3e360b-ba26-4d81-af07-d22cd599e8d4",
   "metadata": {},
   "outputs": [],
   "source": [
    "geoms = []\n",
    "for i in range(n):\n",
    "    po = poses[i]\n",
    "    im = imgs[i]\n",
    "    geoms.extend(\n",
    "        generate_cam(po, [200, 20, 200], im=im)\n",
    "    )"
   ]
  },
  {
   "cell_type": "code",
   "execution_count": 10,
   "id": "7b1e46a9-9dc8-4e54-8713-4baa5b809ac3",
   "metadata": {},
   "outputs": [
    {
     "data": {
      "application/vnd.jupyter.widget-view+json": {
       "model_id": "20ed588915274dc1aafcfd28f39643e2",
       "version_major": 2,
       "version_minor": 0
      },
      "text/plain": [
       "Output()"
      ]
     },
     "metadata": {},
     "output_type": "display_data"
    }
   ],
   "source": [
    "plot = k3d.plot()\n",
    "plot.display()"
   ]
  },
  {
   "cell_type": "code",
   "execution_count": 11,
   "id": "13e1e747-fe6d-4027-9099-c83884cbbe9c",
   "metadata": {},
   "outputs": [],
   "source": [
    "for elem in geoms:\n",
    "    plot += elem"
   ]
  },
  {
   "cell_type": "code",
   "execution_count": 12,
   "id": "6231de37-872f-4805-aa0e-695c20b3bd0d",
   "metadata": {},
   "outputs": [],
   "source": [
    "plot.close()"
   ]
  },
  {
   "cell_type": "code",
   "execution_count": null,
   "id": "96ba5883-3fe6-4cac-9303-b676d7810232",
   "metadata": {},
   "outputs": [],
   "source": []
  },
  {
   "cell_type": "code",
   "execution_count": null,
   "id": "7d2db647-7b0c-4a6b-bb4a-9357c5828cac",
   "metadata": {},
   "outputs": [],
   "source": []
  },
  {
   "cell_type": "code",
   "execution_count": 46,
   "id": "dcb9b9ce-d3c4-4213-b975-fd61fba50d28",
   "metadata": {},
   "outputs": [],
   "source": [
    "import matplotlib.pyplot as plt"
   ]
  },
  {
   "cell_type": "code",
   "execution_count": null,
   "id": "c261cfcf-414c-4374-8ad9-8050d0c42334",
   "metadata": {},
   "outputs": [],
   "source": [
    "plt.imshow(imgs[0])"
   ]
  }
 ],
 "metadata": {
  "kernelspec": {
   "display_name": "Python 3 (ipykernel)",
   "language": "python",
   "name": "python3"
  },
  "language_info": {
   "codemirror_mode": {
    "name": "ipython",
    "version": 3
   },
   "file_extension": ".py",
   "mimetype": "text/x-python",
   "name": "python",
   "nbconvert_exporter": "python",
   "pygments_lexer": "ipython3",
   "version": "3.9.18"
  }
 },
 "nbformat": 4,
 "nbformat_minor": 5
}
